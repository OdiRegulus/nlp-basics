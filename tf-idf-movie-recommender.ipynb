{
 "cells": [
  {
   "cell_type": "code",
   "execution_count": 65,
   "id": "a8333ae7-657b-4a1e-bf1b-e2a395a04f99",
   "metadata": {},
   "outputs": [],
   "source": [
    "import pandas as pd\n",
    "import matplotlib.pyplot as plt\n",
    "import json\n",
    "\n",
    "from sklearn.feature_extraction.text import TfidfVectorizer\n",
    "from sklearn.metrics.pairwise import cosine_similarity, euclidean_distances"
   ]
  },
  {
   "cell_type": "code",
   "execution_count": 66,
   "id": "99e2ebdb-e940-4607-9f21-06f8ec0aed87",
   "metadata": {},
   "outputs": [],
   "source": [
    "df = pd.read_csv('data/tmdb_5000_movies.csv')"
   ]
  },
  {
   "cell_type": "code",
   "execution_count": 67,
   "id": "ad1e5388-1d1e-4fb4-9f49-09e553f510ae",
   "metadata": {},
   "outputs": [
    {
     "data": {
      "text/plain": [
       "budget                                                          237000000\n",
       "genres                  [{\"id\": 28, \"name\": \"Action\"}, {\"id\": 12, \"nam...\n",
       "homepage                                      http://www.avatarmovie.com/\n",
       "id                                                                  19995\n",
       "keywords                [{\"id\": 1463, \"name\": \"culture clash\"}, {\"id\":...\n",
       "original_language                                                      en\n",
       "original_title                                                     Avatar\n",
       "overview                In the 22nd century, a paraplegic Marine is di...\n",
       "popularity                                                     150.437577\n",
       "production_companies    [{\"name\": \"Ingenious Film Partners\", \"id\": 289...\n",
       "production_countries    [{\"iso_3166_1\": \"US\", \"name\": \"United States o...\n",
       "release_date                                                   2009-12-10\n",
       "revenue                                                        2787965087\n",
       "runtime                                                             162.0\n",
       "spoken_languages        [{\"iso_639_1\": \"en\", \"name\": \"English\"}, {\"iso...\n",
       "status                                                           Released\n",
       "tagline                                       Enter the World of Pandora.\n",
       "title                                                              Avatar\n",
       "vote_average                                                          7.2\n",
       "vote_count                                                          11800\n",
       "Name: 0, dtype: object"
      ]
     },
     "execution_count": 67,
     "metadata": {},
     "output_type": "execute_result"
    }
   ],
   "source": [
    "x = df.iloc[0]\n",
    "x"
   ]
  },
  {
   "cell_type": "code",
   "execution_count": 68,
   "id": "e5735b8a-9f92-42a0-a223-51af71f6e79c",
   "metadata": {},
   "outputs": [],
   "source": [
    "# convert the relevant data for each movie into a single string\n",
    "# to be ingested by TfidfVectorizer\n",
    "def genres_and_keywords_to_string(row):\n",
    "  genres = json.loads(row['genres'])\n",
    "  genres = ' '.join(''.join(j['name'].split()) for j in genres)\n",
    "\n",
    "  keywords = json.loads(row['keywords'])\n",
    "  keywords = ' '.join(''.join(j['name'].split()) for j in keywords)\n",
    "  return \"%s %s\" % (genres, keywords)"
   ]
  },
  {
   "cell_type": "code",
   "execution_count": 69,
   "id": "d2edd5a5-55f6-4a66-84bf-0901f2e7e548",
   "metadata": {},
   "outputs": [],
   "source": [
    "# create a new string representation of each movie\n",
    "df['string'] = df.apply(genres_and_keywords_to_string, axis=1)\n",
    "# create a tf-idf vectorizer object\n",
    "tfidf = TfidfVectorizer(max_features=2000)\n",
    "# create a data matrix from the overviews\n",
    "X = tfidf.fit_transform(df['string'])"
   ]
  },
  {
   "cell_type": "code",
   "execution_count": 70,
   "id": "dc8359f8-8493-4f37-9689-e05a8c7041ff",
   "metadata": {},
   "outputs": [],
   "source": [
    "movie2idx = pd.Series(df.index, index=df['title'])\n",
    "# create a function that generates recommendations\n",
    "def recommend(title):\n",
    "  # get the row in the dataframe for this movie\n",
    "  idx = movie2idx[title]\n",
    "  if type(idx) == pd.Series:\n",
    "    idx = idx.iloc[0]\n",
    "\n",
    "  # calculate the pairwise similarities for this movie\n",
    "  query = X[idx]\n",
    "  scores = cosine_similarity(query, X)\n",
    "\n",
    "  # currently the array is 1 x N, make it just a 1-D array\n",
    "  scores = scores.flatten()\n",
    "\n",
    "  # get the indexes of the highest scoring movies\n",
    "  # get the first K recommendations\n",
    "  # don't return itself!\n",
    "  recommended_idx = (-scores).argsort()[1:6]\n",
    "\n",
    "  # return the titles of the recommendations\n",
    "  return df['title'].iloc[recommended_idx]"
   ]
  },
  {
   "cell_type": "code",
   "execution_count": 71,
   "id": "26da181f-5390-435d-8ffc-5be826921acc",
   "metadata": {},
   "outputs": [
    {
     "name": "stdout",
     "output_type": "stream",
     "text": [
      "Recommendations for 'Scream 3':\n",
      "3902    Friday the 13th Part VI: Jason Lives\n",
      "4628                          Graduation Day\n",
      "4053        Friday the 13th: A New Beginning\n",
      "4048                             The Calling\n",
      "1084                         The Glimmer Man\n",
      "Name: title, dtype: object\n"
     ]
    }
   ],
   "source": [
    "print(\"Recommendations for 'Scream 3':\")\n",
    "print(recommend('Scream 3'))"
   ]
  },
  {
   "cell_type": "code",
   "execution_count": 72,
   "id": "3f972816-9a52-415a-a07b-e3c42052eae1",
   "metadata": {},
   "outputs": [
    {
     "name": "stdout",
     "output_type": "stream",
     "text": [
      "Recommendations for 'Pirates of the Caribbean: At World's End':\n",
      "12             Pirates of the Caribbean: Dead Man's Chest\n",
      "199     Pirates of the Caribbean: The Curse of the Bla...\n",
      "340                                      Cutthroat Island\n",
      "1331                                         Nim's Island\n",
      "17            Pirates of the Caribbean: On Stranger Tides\n",
      "Name: title, dtype: object\n"
     ]
    }
   ],
   "source": [
    "print(\"Recommendations for 'Pirates of the Caribbean: At World's End':\")\n",
    "print(recommend(\"Pirates of the Caribbean: At World's End\"))"
   ]
  }
 ],
 "metadata": {
  "kernelspec": {
   "display_name": "Python 3 (ipykernel)",
   "language": "python",
   "name": "python3"
  },
  "language_info": {
   "codemirror_mode": {
    "name": "ipython",
    "version": 3
   },
   "file_extension": ".py",
   "mimetype": "text/x-python",
   "name": "python",
   "nbconvert_exporter": "python",
   "pygments_lexer": "ipython3",
   "version": "3.12.4"
  }
 },
 "nbformat": 4,
 "nbformat_minor": 5
}
