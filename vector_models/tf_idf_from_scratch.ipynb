{
 "cells": [
  {
   "cell_type": "code",
   "execution_count": 27,
   "id": "768db1f1-6a28-4db2-996b-c76d701be5eb",
   "metadata": {},
   "outputs": [],
   "source": [
    "import pandas as pd\n",
    "import numpy as np\n",
    "import nltk\n",
    "\n",
    "from nltk import word_tokenize\n",
    "from sklearn.feature_extraction.text import CountVectorizer"
   ]
  },
  {
   "cell_type": "code",
   "execution_count": 28,
   "id": "8cd77681-9fe3-4412-91e6-a99cc3569ffe",
   "metadata": {},
   "outputs": [],
   "source": [
    "df = pd.read_csv('data/bbc_text_cls.csv')"
   ]
  },
  {
   "cell_type": "code",
   "execution_count": 29,
   "id": "96d09fb8-b513-4b11-b398-21a2a2c27c3d",
   "metadata": {},
   "outputs": [],
   "source": [
    "inputs = df['text']\n",
    "vectorizer = CountVectorizer(lowercase=True)\n",
    "X = vectorizer.fit_transform(inputs)"
   ]
  },
  {
   "cell_type": "code",
   "execution_count": 32,
   "id": "d1b38eb3-d6b7-4967-8fd7-d85b6c5116ec",
   "metadata": {},
   "outputs": [],
   "source": [
    "word2idx = vectorizer.vocabulary_\n",
    "idx2word = {idx: word for word, idx in word2idx.items()}"
   ]
  },
  {
   "cell_type": "code",
   "execution_count": 33,
   "id": "f949942d-5c4d-4abb-bf08-957f4af4a8a6",
   "metadata": {},
   "outputs": [],
   "source": [
    "tf = X.toarray()\n",
    "N, V = tf.shape"
   ]
  },
  {
   "cell_type": "code",
   "execution_count": 34,
   "id": "25fee501-f953-4e0e-ad7f-321a900bec88",
   "metadata": {},
   "outputs": [],
   "source": [
    "document_freq = np.sum(tf > 0, axis=0) # document frequency (shape = (V,))\n",
    "idf = np.log(N / document_freq)"
   ]
  },
  {
   "cell_type": "code",
   "execution_count": 35,
   "id": "a8af2683-f120-4d30-ab99-1525248102e8",
   "metadata": {},
   "outputs": [
    {
     "name": "stdout",
     "output_type": "stream",
     "text": [
      "(2225, 29421) (29421,)\n"
     ]
    }
   ],
   "source": [
    "print(tf.shape, idf.shape)  "
   ]
  },
  {
   "cell_type": "code",
   "execution_count": 36,
   "id": "b9b56060-ce02-4641-bffd-14ee10c459b3",
   "metadata": {},
   "outputs": [],
   "source": [
    "tf_idf = tf * idf"
   ]
  },
  {
   "cell_type": "code",
   "execution_count": 37,
   "id": "10b42cbf-7d9b-4728-845b-639704fa29c3",
   "metadata": {},
   "outputs": [],
   "source": [
    "import numpy as np\n",
    "np.random.seed(123)"
   ]
  },
  {
   "cell_type": "code",
   "execution_count": 38,
   "id": "e3a5e39a-94d9-49c8-a3ea-506ca1ef2739",
   "metadata": {},
   "outputs": [
    {
     "name": "stdout",
     "output_type": "stream",
     "text": [
      "Label: sport\n",
      "Text: Athens memories soar above lows\n",
      "Top 5 terms:\n",
      "paula\n",
      "athens\n",
      "1500m\n",
      "her\n",
      "kelly\n"
     ]
    }
   ],
   "source": [
    "i = np.random.choice(N)\n",
    "row = df.iloc[i]\n",
    "print(\"Label:\", row['labels'])\n",
    "print(\"Text:\", row['text'].split(\"\\n\", 1)[0])\n",
    "print(\"Top 5 terms:\")\n",
    "scores = tf_idf[i]\n",
    "indices = (-scores).argsort()\n",
    "for j in indices[:5]:\n",
    "    print(idx2word[j])"
   ]
  },
  {
   "cell_type": "code",
   "execution_count": null,
   "id": "b2be8b37-26cf-4d6a-8e38-60f96ef97a5a",
   "metadata": {},
   "outputs": [],
   "source": []
  }
 ],
 "metadata": {
  "kernelspec": {
   "display_name": "Python 3 (ipykernel)",
   "language": "python",
   "name": "python3"
  },
  "language_info": {
   "codemirror_mode": {
    "name": "ipython",
    "version": 3
   },
   "file_extension": ".py",
   "mimetype": "text/x-python",
   "name": "python",
   "nbconvert_exporter": "python",
   "pygments_lexer": "ipython3",
   "version": "3.12.4"
  }
 },
 "nbformat": 4,
 "nbformat_minor": 5
}
